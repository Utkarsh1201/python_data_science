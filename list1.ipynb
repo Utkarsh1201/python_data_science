{
 "cells": [
  {
   "cell_type": "code",
   "execution_count": 2,
   "metadata": {},
   "outputs": [],
   "source": [
    "x = [] # blank list\n",
    "x2 = [1,2,3] # list with three elements\n",
    "x3 = [12, 45, 'apple', 'orange'] # list with 4 elements\n",
    "x4 = ['utkarsh', 'prateek','varun']"
   ]
  },
  {
   "cell_type": "code",
   "execution_count": 3,
   "metadata": {},
   "outputs": [
    {
     "name": "stdout",
     "output_type": "stream",
     "text": [
      "[]\n",
      "[1, 2, 3]\n",
      "[12, 45, 'apple', 'orange']\n",
      "['utkarsh', 'prateek', 'varun']\n"
     ]
    }
   ],
   "source": [
    "print(x)\n",
    "print(x2)\n",
    "print(x3)\n",
    "print(x4)"
   ]
  },
  {
   "cell_type": "code",
   "execution_count": 4,
   "metadata": {},
   "outputs": [
    {
     "data": {
      "text/plain": [
       "[2, 2, 2, 2, 2]"
      ]
     },
     "execution_count": 4,
     "metadata": {},
     "output_type": "execute_result"
    }
   ],
   "source": [
    "y = [2]\n",
    "y * 5"
   ]
  },
  {
   "cell_type": "code",
   "execution_count": 5,
   "metadata": {},
   "outputs": [
    {
     "data": {
      "text/plain": [
       "[1, 2, 3, 1, 2, 3, 1, 2, 3, 1, 2, 3, 1, 2, 3]"
      ]
     },
     "execution_count": 5,
     "metadata": {},
     "output_type": "execute_result"
    }
   ],
   "source": [
    "x2*5"
   ]
  },
  {
   "cell_type": "code",
   "execution_count": 6,
   "metadata": {},
   "outputs": [
    {
     "name": "stdout",
     "output_type": "stream",
     "text": [
      "[1, 2, 3, 1, 2, 3, 1, 2, 3, 1, 2, 3, 1, 2, 3]\n"
     ]
    }
   ],
   "source": [
    "x5 = x2*5\n",
    "print(x5)"
   ]
  },
  {
   "cell_type": "code",
   "execution_count": 9,
   "metadata": {},
   "outputs": [
    {
     "name": "stdout",
     "output_type": "stream",
     "text": [
      "['utkarsh', 'prateek', 'varun', 1, 2, 3, 1, 2, 3, 1, 2, 3, 1, 2, 3, 1, 2, 3]\n"
     ]
    }
   ],
   "source": [
    "x6 = x4+x5 # concatenation\n",
    "print(x6)"
   ]
  },
  {
   "cell_type": "code",
   "execution_count": 10,
   "metadata": {},
   "outputs": [],
   "source": [
    "flop_movies = ['bombay velvet','thugs of hindustan','shamshera','zero','Tubelight']\n",
    "Hit_movies = ['sita ramam','masaan','phir hera pheri','jab we met','gangs of waseypur']"
   ]
  },
  {
   "cell_type": "code",
   "execution_count": 11,
   "metadata": {},
   "outputs": [
    {
     "name": "stdout",
     "output_type": "stream",
     "text": [
      "['bombay velvet', 'thugs of hindustan', 'shamshera', 'zero', 'Tubelight', 'sita ramam', 'masaan', 'phir hera pheri', 'jab we met', 'gangs of waseypur']\n"
     ]
    }
   ],
   "source": [
    "all_movies = flop_movies + Hit_movies\n",
    "print(all_movies)"
   ]
  },
  {
   "cell_type": "code",
   "execution_count": 12,
   "metadata": {},
   "outputs": [],
   "source": [
    "all_movies.append('Troll 2')\n",
    "all_movies.append('black widow')"
   ]
  },
  {
   "cell_type": "code",
   "execution_count": 13,
   "metadata": {},
   "outputs": [
    {
     "name": "stdout",
     "output_type": "stream",
     "text": [
      "['bombay velvet', 'thugs of hindustan', 'shamshera', 'zero', 'Tubelight', 'sita ramam', 'masaan', 'phir hera pheri', 'jab we met', 'gangs of waseypur', 'Troll 2', 'black widow']\n"
     ]
    }
   ],
   "source": [
    "print(all_movies)"
   ]
  },
  {
   "cell_type": "code",
   "execution_count": 14,
   "metadata": {},
   "outputs": [
    {
     "name": "stdout",
     "output_type": "stream",
     "text": [
      "['bombay velvet', 'thugs of hindustan', 'bahubali', 'shamshera', 'zero', 'Tubelight', 'sita ramam', 'masaan', 'phir hera pheri', 'jab we met', 'gangs of waseypur', 'Troll 2', 'black widow']\n"
     ]
    }
   ],
   "source": [
    "all_movies.insert(2, 'bahubali')\n",
    "print(all_movies)"
   ]
  },
  {
   "cell_type": "code",
   "execution_count": 15,
   "metadata": {},
   "outputs": [
    {
     "name": "stdout",
     "output_type": "stream",
     "text": [
      "['bombay velvet', 'thugs of hindustan', 'bahubali', 'shamshera', 'zero', 'Tubelight', 'sita ramam', 'masaan', 'phir hera pheri', 'jab we met', 'gangs of waseypur', 'Troll 2', 'black widow', 'spiderman', 'spiderman: far from home', 'spiderman:no way home']\n"
     ]
    }
   ],
   "source": [
    "sequels = ['spiderman','spiderman: far from home','spiderman:no way home']\n",
    "all_movies.extend(sequels)\n",
    "print(all_movies)"
   ]
  },
  {
   "cell_type": "code",
   "execution_count": 16,
   "metadata": {},
   "outputs": [
    {
     "data": {
      "text/plain": [
       "16"
      ]
     },
     "execution_count": 16,
     "metadata": {},
     "output_type": "execute_result"
    }
   ],
   "source": [
    "len(all_movies)"
   ]
  },
  {
   "cell_type": "code",
   "execution_count": 17,
   "metadata": {},
   "outputs": [
    {
     "data": {
      "text/plain": [
       "['bombay velvet', 'thugs of hindustan', 'bahubali', 'shamshera', 'zero']"
      ]
     },
     "execution_count": 17,
     "metadata": {},
     "output_type": "execute_result"
    }
   ],
   "source": [
    "all_movies[:5] # first five elements"
   ]
  },
  {
   "cell_type": "code",
   "execution_count": 19,
   "metadata": {},
   "outputs": [
    {
     "data": {
      "text/plain": [
       "['Troll 2',\n",
       " 'black widow',\n",
       " 'spiderman',\n",
       " 'spiderman: far from home',\n",
       " 'spiderman:no way home']"
      ]
     },
     "execution_count": 19,
     "metadata": {},
     "output_type": "execute_result"
    }
   ],
   "source": [
    "all_movies[-5:] # last five elements"
   ]
  },
  {
   "cell_type": "code",
   "execution_count": 21,
   "metadata": {},
   "outputs": [
    {
     "name": "stdout",
     "output_type": "stream",
     "text": [
      "['bombay velvet', 'thugs of hindustan', 'bahubali', 'bahubali 2: The conclusion', 'zero', 'Tubelight', 'sita ramam', 'masaan', 'phir hera pheri', 'jab we met', 'gangs of waseypur', 'Troll 2', 'black widow', 'spiderman', 'spiderman: far from home', 'spiderman:no way home']\n"
     ]
    }
   ],
   "source": [
    "all_movies[3] = 'bahubali 2: The conclusion'\n",
    "print(all_movies)"
   ]
  },
  {
   "cell_type": "code",
   "execution_count": 23,
   "metadata": {},
   "outputs": [
    {
     "name": "stdout",
     "output_type": "stream",
     "text": [
      "['spiderman:no way home', 'spiderman: far from home', 'spiderman', 'black widow', 'Troll 2', 'gangs of waseypur', 'jab we met', 'phir hera pheri', 'masaan', 'sita ramam', 'Tubelight', 'zero', 'bahubali 2: The conclusion', 'bahubali', 'thugs of hindustan', 'bombay velvet']\n"
     ]
    }
   ],
   "source": [
    "all_movies.reverse()\n",
    "print(all_movies)"
   ]
  },
  {
   "cell_type": "code",
   "execution_count": 25,
   "metadata": {},
   "outputs": [
    {
     "name": "stdout",
     "output_type": "stream",
     "text": [
      "['Troll 2', 'Tubelight', 'bahubali', 'bahubali 2: The conclusion', 'black widow', 'bombay velvet', 'gangs of waseypur', 'jab we met', 'masaan', 'phir hera pheri', 'sita ramam', 'spiderman', 'spiderman: far from home', 'spiderman:no way home', 'thugs of hindustan', 'zero']\n"
     ]
    }
   ],
   "source": [
    "all_movies.sort()\n",
    "print(all_movies)"
   ]
  },
  {
   "cell_type": "code",
   "execution_count": 26,
   "metadata": {},
   "outputs": [
    {
     "name": "stdout",
     "output_type": "stream",
     "text": [
      "['zero', 'thugs of hindustan', 'spiderman:no way home', 'spiderman: far from home', 'spiderman', 'sita ramam', 'phir hera pheri', 'masaan', 'jab we met', 'gangs of waseypur', 'bombay velvet', 'black widow', 'bahubali 2: The conclusion', 'bahubali', 'Tubelight', 'Troll 2']\n"
     ]
    }
   ],
   "source": [
    "all_movies.sort(reverse=True)\n",
    "print(all_movies)"
   ]
  },
  {
   "cell_type": "code",
   "execution_count": 27,
   "metadata": {},
   "outputs": [],
   "source": [
    "import random as rnd"
   ]
  },
  {
   "cell_type": "code",
   "execution_count": 28,
   "metadata": {},
   "outputs": [
    {
     "name": "stdout",
     "output_type": "stream",
     "text": [
      "['black widow', 'Troll 2', 'phir hera pheri', 'Tubelight', 'spiderman: far from home', 'bombay velvet', 'gangs of waseypur', 'sita ramam', 'masaan', 'jab we met', 'spiderman', 'bahubali', 'bahubali 2: The conclusion', 'spiderman:no way home', 'zero', 'thugs of hindustan']\n"
     ]
    }
   ],
   "source": [
    "rnd.shuffle(all_movies)\n",
    "print(all_movies)"
   ]
  },
  {
   "cell_type": "code",
   "execution_count": 41,
   "metadata": {},
   "outputs": [
    {
     "data": {
      "text/plain": [
       "'phir hera pheri'"
      ]
     },
     "execution_count": 41,
     "metadata": {},
     "output_type": "execute_result"
    }
   ],
   "source": [
    "rnd.choice(all_movies)"
   ]
  },
  {
   "cell_type": "code",
   "execution_count": 42,
   "metadata": {},
   "outputs": [
    {
     "data": {
      "text/plain": [
       "['phir hera pheri',\n",
       " 'thugs of hindustan',\n",
       " 'zero',\n",
       " 'bahubali',\n",
       " 'thugs of hindustan',\n",
       " 'spiderman:no way home']"
      ]
     },
     "execution_count": 42,
     "metadata": {},
     "output_type": "execute_result"
    }
   ],
   "source": [
    "rnd.choices(all_movies, k = 6)"
   ]
  },
  {
   "cell_type": "code",
   "execution_count": 43,
   "metadata": {},
   "outputs": [
    {
     "data": {
      "text/plain": [
       "2"
      ]
     },
     "execution_count": 43,
     "metadata": {},
     "output_type": "execute_result"
    }
   ],
   "source": [
    "all_movies.index('phir hera pheri')"
   ]
  },
  {
   "cell_type": "code",
   "execution_count": 44,
   "metadata": {},
   "outputs": [
    {
     "data": {
      "text/plain": [
       "'thugs of hindustan'"
      ]
     },
     "execution_count": 44,
     "metadata": {},
     "output_type": "execute_result"
    }
   ],
   "source": [
    "all_movies.pop() # removes last element"
   ]
  },
  {
   "cell_type": "code",
   "execution_count": 45,
   "metadata": {},
   "outputs": [
    {
     "data": {
      "text/plain": [
       "'Tubelight'"
      ]
     },
     "execution_count": 45,
     "metadata": {},
     "output_type": "execute_result"
    }
   ],
   "source": [
    "all_movies.pop(3) # removes element at index 3"
   ]
  },
  {
   "cell_type": "code",
   "execution_count": 46,
   "metadata": {},
   "outputs": [
    {
     "name": "stdout",
     "output_type": "stream",
     "text": [
      "['black widow', 'Troll 2', 'phir hera pheri', 'spiderman: far from home', 'bombay velvet', 'gangs of waseypur', 'sita ramam', 'masaan', 'jab we met', 'spiderman', 'bahubali', 'bahubali 2: The conclusion', 'spiderman:no way home', 'zero']\n"
     ]
    }
   ],
   "source": [
    "print(all_movies)"
   ]
  },
  {
   "cell_type": "code",
   "execution_count": 49,
   "metadata": {},
   "outputs": [
    {
     "name": "stdout",
     "output_type": "stream",
     "text": [
      "[100, 2, 200, 4, 5]\n",
      "[100, 2, 200, 4, 5]\n",
      "True\n"
     ]
    }
   ],
   "source": [
    "x = [1,2,3,4,5]\n",
    "y = x # data structure is not copied, only reference is copied\n",
    "y[0] = 100\n",
    "x[2] = 200\n",
    "print(x)\n",
    "print(y)\n",
    "print(x is y)"
   ]
  },
  {
   "cell_type": "code",
   "execution_count": 50,
   "metadata": {},
   "outputs": [
    {
     "name": "stdout",
     "output_type": "stream",
     "text": [
      "[100, 2, 200, 4]\n",
      "[100, 2, 200, 4]\n",
      "[100, 2, 200, 4, 5, 10]\n",
      "False\n"
     ]
    }
   ],
   "source": [
    "z = x.copy()\n",
    "z.append(10)\n",
    "x.remove(5)\n",
    "print(x)\n",
    "print(y)\n",
    "print(z)\n",
    "print(x is z)"
   ]
  },
  {
   "cell_type": "code",
   "execution_count": null,
   "metadata": {},
   "outputs": [],
   "source": []
  }
 ],
 "metadata": {
  "kernelspec": {
   "display_name": "base",
   "language": "python",
   "name": "python3"
  },
  "language_info": {
   "codemirror_mode": {
    "name": "ipython",
    "version": 3
   },
   "file_extension": ".py",
   "mimetype": "text/x-python",
   "name": "python",
   "nbconvert_exporter": "python",
   "pygments_lexer": "ipython3",
   "version": "3.10.9"
  },
  "orig_nbformat": 4,
  "vscode": {
   "interpreter": {
    "hash": "ace9f4d44de3a954cc5fff1b00f6265aedf8537d22695d4a863319e810732480"
   }
  }
 },
 "nbformat": 4,
 "nbformat_minor": 2
}
