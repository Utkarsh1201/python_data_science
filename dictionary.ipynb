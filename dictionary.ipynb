{
 "cells": [
  {
   "cell_type": "code",
   "execution_count": 4,
   "metadata": {},
   "outputs": [],
   "source": [
    "book = {\n",
    "    'title': 'The Lost Metal',\n",
    "    'author': 'Brandon sanderson',\n",
    "    'pages': 899,\n",
    "    'price':'$10.99',\n",
    "    'publisher':'Tor Books',\n",
    "    'genre':'fantasy',\n",
    "    'type':'hardcover'\n",
    "}"
   ]
  },
  {
   "cell_type": "code",
   "execution_count": 5,
   "metadata": {},
   "outputs": [
    {
     "data": {
      "text/plain": [
       "'The Lost Metal'"
      ]
     },
     "execution_count": 5,
     "metadata": {},
     "output_type": "execute_result"
    }
   ],
   "source": [
    "book['title']"
   ]
  },
  {
   "cell_type": "code",
   "execution_count": 6,
   "metadata": {},
   "outputs": [
    {
     "data": {
      "text/plain": [
       "'Tor Books'"
      ]
     },
     "execution_count": 6,
     "metadata": {},
     "output_type": "execute_result"
    }
   ],
   "source": [
    "key = 'publisher'\n",
    "book[key]"
   ]
  },
  {
   "cell_type": "code",
   "execution_count": 7,
   "metadata": {},
   "outputs": [],
   "source": [
    "book['price'] = '$21.00'"
   ]
  },
  {
   "cell_type": "code",
   "execution_count": 8,
   "metadata": {},
   "outputs": [
    {
     "data": {
      "text/plain": [
       "{'title': 'The Lost Metal',\n",
       " 'author': 'Brandon sanderson',\n",
       " 'pages': 899,\n",
       " 'price': '$21.00',\n",
       " 'publisher': 'Tor Books',\n",
       " 'genre': 'fantasy',\n",
       " 'type': 'hardcover'}"
      ]
     },
     "execution_count": 8,
     "metadata": {},
     "output_type": "execute_result"
    }
   ],
   "source": [
    "book"
   ]
  },
  {
   "cell_type": "code",
   "execution_count": 9,
   "metadata": {},
   "outputs": [],
   "source": [
    "book['rating'] = 4.9"
   ]
  },
  {
   "cell_type": "code",
   "execution_count": 10,
   "metadata": {},
   "outputs": [
    {
     "data": {
      "text/plain": [
       "{'title': 'The Lost Metal',\n",
       " 'author': 'Brandon sanderson',\n",
       " 'pages': 899,\n",
       " 'price': '$21.00',\n",
       " 'publisher': 'Tor Books',\n",
       " 'genre': 'fantasy',\n",
       " 'type': 'hardcover',\n",
       " 'rating': 4.9}"
      ]
     },
     "execution_count": 10,
     "metadata": {},
     "output_type": "execute_result"
    }
   ],
   "source": [
    "book"
   ]
  },
  {
   "cell_type": "code",
   "execution_count": 11,
   "metadata": {},
   "outputs": [
    {
     "data": {
      "text/plain": [
       "['title', 'author', 'pages', 'price', 'publisher', 'genre', 'type', 'rating']"
      ]
     },
     "execution_count": 11,
     "metadata": {},
     "output_type": "execute_result"
    }
   ],
   "source": [
    "list(book.keys())"
   ]
  },
  {
   "cell_type": "code",
   "execution_count": 12,
   "metadata": {},
   "outputs": [
    {
     "data": {
      "text/plain": [
       "['The Lost Metal',\n",
       " 'Brandon sanderson',\n",
       " 899,\n",
       " '$21.00',\n",
       " 'Tor Books',\n",
       " 'fantasy',\n",
       " 'hardcover',\n",
       " 4.9]"
      ]
     },
     "execution_count": 12,
     "metadata": {},
     "output_type": "execute_result"
    }
   ],
   "source": [
    "list(book.values())"
   ]
  },
  {
   "cell_type": "code",
   "execution_count": 13,
   "metadata": {},
   "outputs": [
    {
     "data": {
      "text/plain": [
       "[('title', 'The Lost Metal'),\n",
       " ('author', 'Brandon sanderson'),\n",
       " ('pages', 899),\n",
       " ('price', '$21.00'),\n",
       " ('publisher', 'Tor Books'),\n",
       " ('genre', 'fantasy'),\n",
       " ('type', 'hardcover'),\n",
       " ('rating', 4.9)]"
      ]
     },
     "execution_count": 13,
     "metadata": {},
     "output_type": "execute_result"
    }
   ],
   "source": [
    "list(book.items())"
   ]
  },
  {
   "cell_type": "code",
   "execution_count": 14,
   "metadata": {},
   "outputs": [
    {
     "name": "stdout",
     "output_type": "stream",
     "text": [
      "title\n",
      "author\n",
      "pages\n",
      "price\n",
      "publisher\n",
      "genre\n",
      "type\n",
      "rating\n"
     ]
    }
   ],
   "source": [
    "# normal loop gives only keys\n",
    "for i in book:\n",
    "    print(i)"
   ]
  },
  {
   "cell_type": "code",
   "execution_count": 15,
   "metadata": {},
   "outputs": [
    {
     "name": "stdout",
     "output_type": "stream",
     "text": [
      "title The Lost Metal\n",
      "author Brandon sanderson\n",
      "pages 899\n",
      "price $21.00\n",
      "publisher Tor Books\n",
      "genre fantasy\n",
      "type hardcover\n",
      "rating 4.9\n"
     ]
    }
   ],
   "source": [
    "#loop to give both keys and values \n",
    "for i in book:\n",
    "    print(i,book[i])"
   ]
  },
  {
   "cell_type": "code",
   "execution_count": 16,
   "metadata": {},
   "outputs": [
    {
     "name": "stdout",
     "output_type": "stream",
     "text": [
      "title The Lost Metal\n",
      "author Brandon sanderson\n",
      "pages 899\n",
      "price $21.00\n",
      "publisher Tor Books\n",
      "genre fantasy\n",
      "type hardcover\n",
      "rating 4.9\n"
     ]
    }
   ],
   "source": [
    "for k, v in book.items():\n",
    "    print(k,v)"
   ]
  },
  {
   "cell_type": "code",
   "execution_count": 17,
   "metadata": {},
   "outputs": [
    {
     "name": "stdout",
     "output_type": "stream",
     "text": [
      "{'name': 'utkarsh', 'email': 'utkarshpandey1201@gmail.com', 'DOB': '12012002', 'Passwoed': '12345678'}\n"
     ]
    }
   ],
   "source": [
    "# User input\n",
    "userdata = {}\n",
    "userdata['name'] = input('Enter your name: ')\n",
    "userdata['email']= input('enter your email:')\n",
    "userdata['DOB']= input('Enter your DOB:')\n",
    "userdata['Passwoed']= input('Enter your password:')\n",
    "\n",
    "print(userdata)"
   ]
  },
  {
   "cell_type": "code",
   "execution_count": 18,
   "metadata": {},
   "outputs": [],
   "source": [
    "# Nested dictionary\n",
    "report = {\n",
    "    'utkarsh':{\n",
    "    'english':90,\n",
    "    'hindi': 56,\n",
    "    'maths':75\n",
    "    },\n",
    "    'aditya': {\n",
    "    'english':80,\n",
    "    'hindi': 90,\n",
    "    'maths':70\n",
    "    },\n",
    "    'aniket':{\n",
    "    'english':89,\n",
    "    'hindi':79,\n",
    "    'maths':90\n",
    "    }\n",
    "}"
   ]
  },
  {
   "cell_type": "code",
   "execution_count": 19,
   "metadata": {},
   "outputs": [
    {
     "data": {
      "text/plain": [
       "{'english': 90, 'hindi': 56, 'maths': 75}"
      ]
     },
     "execution_count": 19,
     "metadata": {},
     "output_type": "execute_result"
    }
   ],
   "source": [
    "report['utkarsh']"
   ]
  },
  {
   "cell_type": "code",
   "execution_count": 21,
   "metadata": {},
   "outputs": [
    {
     "data": {
      "text/plain": [
       "70"
      ]
     },
     "execution_count": 21,
     "metadata": {},
     "output_type": "execute_result"
    }
   ],
   "source": [
    "report['aditya']['maths']"
   ]
  },
  {
   "cell_type": "code",
   "execution_count": 25,
   "metadata": {},
   "outputs": [
    {
     "data": {
      "text/plain": [
       "'Brandon sanderson'"
      ]
     },
     "execution_count": 25,
     "metadata": {},
     "output_type": "execute_result"
    }
   ],
   "source": [
    "book.pop('author')"
   ]
  },
  {
   "cell_type": "code",
   "execution_count": 26,
   "metadata": {},
   "outputs": [
    {
     "data": {
      "text/plain": [
       "{'title': 'The Lost Metal',\n",
       " 'pages': 899,\n",
       " 'price': '$21.00',\n",
       " 'publisher': 'Tor Books',\n",
       " 'genre': 'fantasy',\n",
       " 'type': 'hardcover',\n",
       " 'rating': 4.9}"
      ]
     },
     "execution_count": 26,
     "metadata": {},
     "output_type": "execute_result"
    }
   ],
   "source": [
    "book"
   ]
  },
  {
   "cell_type": "code",
   "execution_count": 27,
   "metadata": {},
   "outputs": [
    {
     "name": "stdout",
     "output_type": "stream",
     "text": [
      "utkarsh -> english 90\n",
      "utkarsh -> hindi 56\n",
      "utkarsh -> maths 75\n",
      "aditya -> english 80\n",
      "aditya -> hindi 90\n",
      "aditya -> maths 70\n",
      "aniket -> english 89\n",
      "aniket -> hindi 79\n",
      "aniket -> maths 90\n"
     ]
    }
   ],
   "source": [
    "for k, v in report.items():\n",
    "    for k1, v1 in v.items():\n",
    "        print(k,'->',k1, v1)"
   ]
  },
  {
   "cell_type": "code",
   "execution_count": null,
   "metadata": {},
   "outputs": [],
   "source": []
  }
 ],
 "metadata": {
  "kernelspec": {
   "display_name": "base",
   "language": "python",
   "name": "python3"
  },
  "language_info": {
   "codemirror_mode": {
    "name": "ipython",
    "version": 3
   },
   "file_extension": ".py",
   "mimetype": "text/x-python",
   "name": "python",
   "nbconvert_exporter": "python",
   "pygments_lexer": "ipython3",
   "version": "3.10.9"
  },
  "orig_nbformat": 4,
  "vscode": {
   "interpreter": {
    "hash": "ace9f4d44de3a954cc5fff1b00f6265aedf8537d22695d4a863319e810732480"
   }
  }
 },
 "nbformat": 4,
 "nbformat_minor": 2
}
