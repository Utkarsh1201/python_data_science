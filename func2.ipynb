{
 "cells": [
  {
   "cell_type": "code",
   "execution_count": null,
   "metadata": {},
   "outputs": [],
   "source": [
    "parameters \n",
    "  - named parameter\n",
    "  -required parameter\n",
    "  -default parameter\n",
    "  -variable parameter\n",
    "  -variable keyboard argument parameter"
   ]
  },
  {
   "cell_type": "code",
   "execution_count": 1,
   "metadata": {},
   "outputs": [],
   "source": [
    "def burger(bread, cheese, veg, price):\n",
    "    print(f'your burger has {bread} bread,{cheese} cheese,{veg} is veg,and cost Rs{price}')"
   ]
  },
  {
   "cell_type": "code",
   "execution_count": 2,
   "metadata": {},
   "outputs": [
    {
     "name": "stdout",
     "output_type": "stream",
     "text": [
      "your burger has wheat bread,cheddar cheese,True is veg,and cost Rs100\n"
     ]
    }
   ],
   "source": [
    "burger('wheat','cheddar',True,100)"
   ]
  },
  {
   "cell_type": "code",
   "execution_count": 3,
   "metadata": {},
   "outputs": [
    {
     "name": "stdout",
     "output_type": "stream",
     "text": [
      "your burger has wheat bread,permesan cheese,True is veg,and cost Rs200\n"
     ]
    }
   ],
   "source": [
    "burger(bread='wheat',cheese='permesan',veg= True,price=200)"
   ]
  },
  {
   "cell_type": "code",
   "execution_count": 4,
   "metadata": {},
   "outputs": [],
   "source": [
    "def total(x, y, z):\n",
    "    return x + y + z * 0.05"
   ]
  },
  {
   "cell_type": "code",
   "execution_count": 7,
   "metadata": {},
   "outputs": [
    {
     "name": "stdout",
     "output_type": "stream",
     "text": [
      "5.2\n",
      "3.1\n"
     ]
    }
   ],
   "source": [
    "ans = total(x=2, y=3, z=4)\n",
    "print(ans)\n",
    "ans = total(y=2, z=2, x=1)\n",
    "print(ans)"
   ]
  },
  {
   "attachments": {},
   "cell_type": "markdown",
   "metadata": {},
   "source": [
    "default parameter"
   ]
  },
  {
   "cell_type": "code",
   "execution_count": 9,
   "metadata": {},
   "outputs": [],
   "source": [
    "def total_v2(x, y, z=10):\n",
    "    return x + y +z * 0.05"
   ]
  },
  {
   "cell_type": "code",
   "execution_count": 10,
   "metadata": {},
   "outputs": [
    {
     "data": {
      "text/plain": [
       "13.5"
      ]
     },
     "execution_count": 10,
     "metadata": {},
     "output_type": "execute_result"
    }
   ],
   "source": [
    "total_v2(3,10)"
   ]
  },
  {
   "cell_type": "code",
   "execution_count": 11,
   "metadata": {},
   "outputs": [
    {
     "data": {
      "text/plain": [
       "14.0"
      ]
     },
     "execution_count": 11,
     "metadata": {},
     "output_type": "execute_result"
    }
   ],
   "source": [
    "total_v2(3,10,20)"
   ]
  },
  {
   "cell_type": "code",
   "execution_count": 12,
   "metadata": {},
   "outputs": [],
   "source": [
    "def area(l=2,b=2):\n",
    "    return l * b"
   ]
  },
  {
   "cell_type": "code",
   "execution_count": 14,
   "metadata": {},
   "outputs": [
    {
     "name": "stdout",
     "output_type": "stream",
     "text": [
      "4\n",
      "20\n",
      "200\n"
     ]
    }
   ],
   "source": [
    "print(area())\n",
    "print(area(10))\n",
    "print(area(10,20))"
   ]
  },
  {
   "cell_type": "code",
   "execution_count": 21,
   "metadata": {},
   "outputs": [],
   "source": [
    "def greeting(name='Guest'):\n",
    "    print('👌'*5)\n",
    "    print(f'welcome {name}')\n",
    "    print('👌' *5)"
   ]
  },
  {
   "cell_type": "code",
   "execution_count": 22,
   "metadata": {},
   "outputs": [
    {
     "name": "stdout",
     "output_type": "stream",
     "text": [
      "👌👌👌👌👌\n",
      "welcome Guest\n",
      "👌👌👌👌👌\n"
     ]
    }
   ],
   "source": [
    "greeting()"
   ]
  },
  {
   "cell_type": "code",
   "execution_count": 23,
   "metadata": {},
   "outputs": [
    {
     "name": "stdout",
     "output_type": "stream",
     "text": [
      "👌👌👌👌👌\n",
      "welcome alex\n",
      "👌👌👌👌👌\n"
     ]
    }
   ],
   "source": [
    "greeting(\"alex\")"
   ]
  },
  {
   "attachments": {},
   "cell_type": "markdown",
   "metadata": {},
   "source": [
    "variable arguments functions "
   ]
  },
  {
   "cell_type": "code",
   "execution_count": 30,
   "metadata": {},
   "outputs": [],
   "source": [
    "def average(*numbers):\n",
    "    if len(numbers)>1:\n",
    "        return sum(numbers)/len(numbers)"
   ]
  },
  {
   "cell_type": "code",
   "execution_count": 31,
   "metadata": {},
   "outputs": [
    {
     "name": "stdout",
     "output_type": "stream",
     "text": [
      "2.0\n",
      "5.0\n",
      "304.75\n",
      "None\n"
     ]
    }
   ],
   "source": [
    "print(average(1,2,3))\n",
    "print(average(1,2,3,4,5,6,7,8,9))\n",
    "print(average(239,125,147,569,12,456,789,101))\n",
    "print(average())"
   ]
  },
  {
   "cell_type": "code",
   "execution_count": 42,
   "metadata": {},
   "outputs": [],
   "source": [
    "def menu(**products):\n",
    "    for k,v in products.items():\n",
    "        print(f'😊 {k:15} | Rs.{v:4}')\n"
   ]
  },
  {
   "cell_type": "code",
   "execution_count": 46,
   "metadata": {},
   "outputs": [
    {
     "name": "stdout",
     "output_type": "stream",
     "text": [
      "😊 chaat           | Rs. 100\n",
      "😊 idli            | Rs.  60\n",
      "😊 tea             | Rs.  20\n",
      "😊 samosa          | Rs.  12\n",
      "😊 pani_poori      | Rs.  60\n",
      "😊 butter_chicken  | Rs. 420\n"
     ]
    }
   ],
   "source": [
    "# moti mahal menu\n",
    "menu(chaat=100, idli=60, tea= 20, samosa= 12, pani_poori= 60, butter_chicken=420)"
   ]
  },
  {
   "cell_type": "code",
   "execution_count": 47,
   "metadata": {},
   "outputs": [
    {
     "name": "stdout",
     "output_type": "stream",
     "text": [
      "😊 Tall_laate      | Rs. 250\n",
      "😊 cappucino       | Rs. 160\n",
      "😊 esspresso       | Rs. 120\n"
     ]
    }
   ],
   "source": [
    "# ccd menu\n",
    "menu(Tall_laate=250, cappucino=160, esspresso=120)"
   ]
  },
  {
   "cell_type": "code",
   "execution_count": null,
   "metadata": {},
   "outputs": [],
   "source": []
  }
 ],
 "metadata": {
  "kernelspec": {
   "display_name": "Python 3",
   "language": "python",
   "name": "python3"
  },
  "language_info": {
   "codemirror_mode": {
    "name": "ipython",
    "version": 3
   },
   "file_extension": ".py",
   "mimetype": "text/x-python",
   "name": "python",
   "nbconvert_exporter": "python",
   "pygments_lexer": "ipython3",
   "version": "3.10.9"
  },
  "orig_nbformat": 4,
  "vscode": {
   "interpreter": {
    "hash": "42cea409077ba88baa71e7e1f4bc6acc5e8f21c6d217561351b6fdd8af3ea8ba"
   }
  }
 },
 "nbformat": 4,
 "nbformat_minor": 2
}
