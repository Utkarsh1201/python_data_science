{
 "cells": [
  {
   "attachments": {},
   "cell_type": "markdown",
   "metadata": {},
   "source": [
    "write a program that creates an empty list and then asks the user to input integers to add to the list. print the final list."
   ]
  },
  {
   "cell_type": "code",
   "execution_count": 2,
   "metadata": {},
   "outputs": [
    {
     "name": "stdout",
     "output_type": "stream",
     "text": [
      "[3]\n"
     ]
    }
   ],
   "source": [
    "lst = []\n",
    "x = int(input('enter the numbers:'))\n",
    "for i in range (0, x):\n",
    "    ele = int(input())\n",
    "lst.append(ele)\n",
    "print(lst)"
   ]
  },
  {
   "attachments": {},
   "cell_type": "markdown",
   "metadata": {},
   "source": [
    "write a program that creates a list of integers and then asks the users to input an integer to check if it exists in the list. print a message indicating whether the integer is in the list or not"
   ]
  },
  {
   "cell_type": "code",
   "execution_count": null,
   "metadata": {},
   "outputs": [
    {
     "name": "stdout",
     "output_type": "stream",
     "text": [
      "[1, 2, 3, 4, 5] number available\n"
     ]
    }
   ],
   "source": [
    "n = [ 1, 2, 3, 4, 5]\n",
    "user = int(input('enter the numbers: '))\n",
    "if user in n:\n",
    "    print(n, \"number available\")\n",
    "else:\n",
    "    print('sorry, no numbers available')"
   ]
  },
  {
   "attachments": {},
   "cell_type": "markdown",
   "metadata": {},
   "source": [
    "write a program that creates a list of strings and then sorts the list alphabetically. print the sorted list."
   ]
  },
  {
   "cell_type": "code",
   "execution_count": null,
   "metadata": {},
   "outputs": [
    {
     "name": "stdout",
     "output_type": "stream",
     "text": [
      "['apple', 'banana', 'cherry', 'date']\n"
     ]
    }
   ],
   "source": [
    "my_list = ['banana','apple','date','cherry']\n",
    "my_list.sort()\n",
    "print(my_list)"
   ]
  },
  {
   "attachments": {},
   "cell_type": "markdown",
   "metadata": {},
   "source": [
    "write a program that creates a list of integers and then finds the maximum value in the list. print the maximum value."
   ]
  },
  {
   "cell_type": "code",
   "execution_count": null,
   "metadata": {},
   "outputs": [
    {
     "name": "stdout",
     "output_type": "stream",
     "text": [
      "the maximum value in the list is:  65\n"
     ]
    }
   ],
   "source": [
    "n = [10, 50, 65, 13, 45]\n",
    "max_num = max(n)\n",
    "print('the maximum value in the list is: ', max_num)"
   ]
  },
  {
   "attachments": {},
   "cell_type": "markdown",
   "metadata": {},
   "source": [
    "write  a program that creates two lists of integers and then find the common elements between those two lists. print the common elements."
   ]
  },
  {
   "cell_type": "code",
   "execution_count": null,
   "metadata": {},
   "outputs": [
    {
     "name": "stdout",
     "output_type": "stream",
     "text": [
      "the common elements are:  [25, 10, 35, 5]\n"
     ]
    }
   ],
   "source": [
    "x = [1,5,10,15,20,25,30,35]\n",
    "y = [5, 10,16,23,25,26,35,29]\n",
    "common_elements = set(x) & set(y)\n",
    "print('the common elements are: ', list(common_elements))"
   ]
  },
  {
   "attachments": {},
   "cell_type": "markdown",
   "metadata": {},
   "source": [
    "write a program that creates a list of integers and then removes all duplicates from the list. print the final list."
   ]
  },
  {
   "cell_type": "code",
   "execution_count": null,
   "metadata": {},
   "outputs": [
    {
     "name": "stdout",
     "output_type": "stream",
     "text": [
      "[1, 2, 3, 4, 5, 6, 7, 8, 9]\n"
     ]
    }
   ],
   "source": [
    "n= [1,2,2,3,4,4,4,5,6,6,7,8,9,9,9,9,9]\n",
    "duplicates = list(set(n))\n",
    "print(duplicates)"
   ]
  },
  {
   "attachments": {},
   "cell_type": "markdown",
   "metadata": {},
   "source": [
    "write a program that creates a list of strings and then finds the longest string in the list."
   ]
  },
  {
   "cell_type": "code",
   "execution_count": null,
   "metadata": {},
   "outputs": [
    {
     "name": "stdout",
     "output_type": "stream",
     "text": [
      "watermelon\n"
     ]
    }
   ],
   "source": [
    "my_list = ['apple','banana','watermelon','orange']\n",
    "longest_string = ''\n",
    "for string in my_list:\n",
    "    if len(string) > len(longest_string):\n",
    "        longest_string = string\n",
    "print(longest_string)"
   ]
  },
  {
   "attachments": {},
   "cell_type": "markdown",
   "metadata": {},
   "source": [
    "write a program that creates a list of integers and then finds the sum of all the even numbers in the list."
   ]
  },
  {
   "cell_type": "code",
   "execution_count": null,
   "metadata": {},
   "outputs": [
    {
     "name": "stdout",
     "output_type": "stream",
     "text": [
      "20\n"
     ]
    }
   ],
   "source": [
    "x = [ 1,2,3,4,5,6,7,8,9]\n",
    "even_sum = 0\n",
    "for num in x:\n",
    "    if num % 2 == 0:\n",
    "        even_sum += num\n",
    "print(even_sum)"
   ]
  },
  {
   "cell_type": "code",
   "execution_count": null,
   "metadata": {},
   "outputs": [],
   "source": []
  }
 ],
 "metadata": {
  "kernelspec": {
   "display_name": "base",
   "language": "python",
   "name": "python3"
  },
  "language_info": {
   "codemirror_mode": {
    "name": "ipython",
    "version": 3
   },
   "file_extension": ".py",
   "mimetype": "text/x-python",
   "name": "python",
   "nbconvert_exporter": "python",
   "pygments_lexer": "ipython3",
   "version": "3.10.9"
  },
  "orig_nbformat": 4
 },
 "nbformat": 4,
 "nbformat_minor": 2
}
