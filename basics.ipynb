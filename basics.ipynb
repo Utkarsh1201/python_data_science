{
 "cells": [
  {
   "cell_type": "code",
   "execution_count": null,
   "metadata": {},
   "outputs": [],
   "source": []
  }
 ],
 "metadata": {
  "kernelspec": {
   "display_name": "Python 3",
   "language": "python",
   "name": "python3"
  },
  "language_info": {
   "name": "python",
   "version": "3.10.9"
  },
  "orig_nbformat": 4,
  "vscode": {
   "interpreter": {
    "hash": "42cea409077ba88baa71e7e1f4bc6acc5e8f21c6d217561351b6fdd8af3ea8ba"
   }
  }
 },
 "nbformat": 4,
 "nbformat_minor": 2
}
